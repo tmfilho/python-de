{
 "cells": [
  {
   "cell_type": "markdown",
   "metadata": {},
   "source": [
    "# 1ª Avaliação de Programação Estatística com Python - 10/12/2019\n",
    "\n"
   ]
  },
  {
   "cell_type": "markdown",
   "metadata": {},
   "source": [
    "   * Nome: \\_\\_\\_\\_\\_\\_\\_\\_\\_\\_\\_\\_\\_\\_\\_\\_\\_\\_\\_\\_\\_\\_\\_\\_\\_\\_\\_\\_\\_\\_\\_\\_\\_\\_\\_\\_\\_\\_\\_\\_\\_\\_\\_\\_\\_\\_\\_\\_\\_\\_\\_\\_\n",
    "   * Matrícula: \\_\\_\\_\\_\\_\\_\\_\\_\\_\\_\\_\\_\\_\\_\\_\\_\\_\\_\\_\\_\\_\\_\\_\\_\\_\\_\\_\\_\\_\\_\\_\\_\\_\\_\\_\\_\\_\\_\\_\\_\\_\\_\\_\\_\\_\\_\\_\\_\\_"
   ]
  },
  {
   "cell_type": "markdown",
   "metadata": {},
   "source": [
    "**Questão 1 (1,0 ponto)** Implemente uma função que gere $C$ matrizes $\\mathbf{X}_c^{n_c \\times p}$, $c = 1, \\ldots, C$, aleatoriamente, onde $n_c$ é a quantidade de linhas da matriz $\\mathbf{X}_c$. As $p$ colunas de cada matriz $\\mathbf{X}_c$ devem ser sorteadas de distribuições normais com médias e variâncias diferentes. A função deve então concatenar todas as matrizes geradas e retornar a matriz $\\mathbf{X}^{n \\times p}$, onde $n = \\sum_{c=1}^C n_c$. <ins>Dica 1</ins>: A função pode receber como parâmetros uma lista com a quantidade de linhas de cada matriz $\\mathbf{X}_c$, uma lista com as médias das normais usadas para gerar as colunas de cada matriz e outra lista com as variâncias correspondentes. <ins>Dica 2</ins>: considere usar a função *numpy.random.multivariate_normal*."
   ]
  },
  {
   "cell_type": "code",
   "execution_count": null,
   "metadata": {},
   "outputs": [],
   "source": [
    "pass"
   ]
  },
  {
   "cell_type": "markdown",
   "metadata": {},
   "source": [
    "**Questão 2 (1,0 ponto)** Faça uma função que recebe uma matriz $\\mathbf{X}^{n \\times p}$ e um inteiro $k$ e retorna uma matriz $W^{k \\times p}$, cujas linhas foram selecionadas aleatoriamente e sem reposição de $\\mathbf{X}^{n \\times p}$."
   ]
  },
  {
   "cell_type": "code",
   "execution_count": null,
   "metadata": {},
   "outputs": [],
   "source": [
    "pass"
   ]
  },
  {
   "cell_type": "markdown",
   "metadata": {},
   "source": [
    "**Questão 3 (1,0 ponto)** Faça uma função que recebe duas matrizes $\\mathbf{X}^{n \\times p}$ e $\\mathbf{W}^{k \\times p}$ e retorna a matriz de distâncias Euclidianas $\\mathbf{D}^{n \\times k}$ entre as linhas de $\\mathbf{X}$ e as de $\\mathbf{W}$."
   ]
  },
  {
   "cell_type": "code",
   "execution_count": null,
   "metadata": {},
   "outputs": [],
   "source": [
    "pass"
   ]
  },
  {
   "cell_type": "markdown",
   "metadata": {},
   "source": [
    "**Questão 4 (1,0 ponto)** Qual função de NumPy pode ser usada para obter para cada linha da matriz $\\mathbf{D}$, retornada pela função da questão acima, a coluna que representa a menor distância da linha correspondente em $\\mathbf{X}$ para as linhas de $\\mathbf{W}$? Use a função para retornar essa informação."
   ]
  },
  {
   "cell_type": "code",
   "execution_count": null,
   "metadata": {},
   "outputs": [],
   "source": [
    "pass"
   ]
  },
  {
   "cell_type": "markdown",
   "metadata": {},
   "source": [
    "**Questão 5 (2,0 pontos)** Faça uma função que atualiza as linhas de $\\mathbf{W}$, fazendo com que cada linha assuma o valor médio das linhas de $\\mathbf{X}$ para as quais a mesma foi a mais próxima. A função deve retornar a matriz $\\mathbf{W}$ modificada. Use a função de NumPy mencionada na Questão 4."
   ]
  },
  {
   "cell_type": "code",
   "execution_count": null,
   "metadata": {},
   "outputs": [],
   "source": [
    "pass"
   ]
  },
  {
   "cell_type": "markdown",
   "metadata": {},
   "source": [
    "**Questão 6 (1,5 pontos)** Implemente uma classe, chamada *KMeans*, cujo construtor define os seguintes atributos: $k$ e $t_{max}$. A classe deve conter um método *fit*, que recebe como parâmetro uma matriz $\\mathbf{X}$. O método *fit* irá então seguir os seguintes passos:\n",
    "\n",
    "  1. Use a função implementada na Questão 2 para obter a matriz $\\mathbf{W}$ (note que o segundo parâmetro da função receberá como argumento um dos atributos definidos no construtor);\n",
    "  2. Repita as operações abaixo $t_{max}$ vezes (note que isso é um atributo):\n",
    "    1. Use a função da Questão 3 para calcular as distâncias entre $\\mathbf{X}$ e $\\mathbf{W}$\n",
    "    2. Use a função da Questão 5 para atualizar as linhas de $\\mathbf{W}$\n",
    "\n",
    "Ao final do método *fit*, a matriz $\\mathbf{W}$ resultante deve ser guardada como um atributo."
   ]
  },
  {
   "cell_type": "code",
   "execution_count": null,
   "metadata": {},
   "outputs": [],
   "source": [
    "pass"
   ]
  },
  {
   "cell_type": "markdown",
   "metadata": {},
   "source": [
    "**Questão 7 (1,0 ponto)** Adicione o método *predict* à classe *KMeans*. O método irá receber uma nova matriz $\\mathbf{X}$ e irá usar a função de NumPy mencionada na Questão 4 para retornar os índices das linhas de $\\mathbf{W}$ mais próximas às linhas de $\\mathbf{X}$."
   ]
  },
  {
   "cell_type": "code",
   "execution_count": null,
   "metadata": {},
   "outputs": [],
   "source": [
    "pass"
   ]
  },
  {
   "cell_type": "markdown",
   "metadata": {},
   "source": [
    "**Questão 8 (1,5 ponto)** Adicione o método *score* à classe *KMeans*. O método irá receber uma nova matriz $\\mathbf{X}$ e irá usar a função da Questão 3 para calcular as distâncias para a matrix $\\mathbf{W}$. Após isso, o método retornará o somatório das menores distâncias."
   ]
  },
  {
   "cell_type": "code",
   "execution_count": null,
   "metadata": {},
   "outputs": [],
   "source": [
    "pass"
   ]
  },
  {
   "cell_type": "code",
   "execution_count": null,
   "metadata": {},
   "outputs": [],
   "source": []
  }
 ],
 "metadata": {
  "kernelspec": {
   "display_name": "Python 3",
   "language": "python",
   "name": "python3"
  },
  "language_info": {
   "codemirror_mode": {
    "name": "ipython",
    "version": 3
   },
   "file_extension": ".py",
   "mimetype": "text/x-python",
   "name": "python",
   "nbconvert_exporter": "python",
   "pygments_lexer": "ipython3",
   "version": "3.7.1"
  }
 },
 "nbformat": 4,
 "nbformat_minor": 2
}
