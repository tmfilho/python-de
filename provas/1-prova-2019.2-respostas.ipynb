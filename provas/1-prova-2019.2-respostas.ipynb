{
 "cells": [
  {
   "cell_type": "markdown",
   "metadata": {},
   "source": [
    "# 1ª Avaliação de Programação Estatística com Python - 10/12/2019\n",
    "\n"
   ]
  },
  {
   "cell_type": "markdown",
   "metadata": {},
   "source": [
    "   * Nome: \\_\\_\\_\\_\\_\\_\\_\\_\\_\\_\\_\\_\\_\\_\\_\\_\\_\\_\\_\\_\\_\\_\\_\\_\\_\\_\\_\\_\\_\\_\\_\\_\\_\\_\\_\\_\\_\\_\\_\\_\\_\\_\\_\\_\\_\\_\\_\\_\\_\\_\\_\\_\n",
    "   * Matrícula: \\_\\_\\_\\_\\_\\_\\_\\_\\_\\_\\_\\_\\_\\_\\_\\_\\_\\_\\_\\_\\_\\_\\_\\_\\_\\_\\_\\_\\_\\_\\_\\_\\_\\_\\_\\_\\_\\_\\_\\_\\_\\_\\_\\_\\_\\_\\_\\_\\_"
   ]
  },
  {
   "cell_type": "markdown",
   "metadata": {},
   "source": [
    "**Questão 1 (1,0 ponto)** Implemente uma função que gere $C$ matrizes $\\mathbf{X}_c^{n_c \\times p}$, $c = 1, \\ldots, C$, aleatoriamente, onde $n_c$ é a quantidade de linhas da matriz $\\mathbf{X}_c$. As $p$ colunas de cada matriz $\\mathbf{X}_c$ devem ser sorteadas de distribuições normais com médias e variâncias diferentes. A função deve então concatenar todas as matrizes geradas e retornar a matriz $\\mathbf{X}^{n \\times p}$, onde $n = \\sum_{c=1}^C n_c$. <ins>Dica 1</ins>: A função pode receber como parâmetros uma lista com a quantidade de linhas de cada matriz $\\mathbf{X}_c$, uma lista com as médias das normais usadas para gerar as colunas de cada matriz e outra lista com as variâncias correspondentes. <ins>Dica 2</ins>: considere usar a função *numpy.random.multivariate_normal*."
   ]
  },
  {
   "cell_type": "code",
   "execution_count": 1,
   "metadata": {},
   "outputs": [
    {
     "name": "stdout",
     "output_type": "stream",
     "text": [
      "[[-1.16668251 -0.04910052]\n",
      " [-1.74726534  0.63723312]\n",
      " [ 3.00237807  0.06470986]\n",
      " [-0.19567212 -0.92555037]\n",
      " [ 0.47449731  1.05147478]\n",
      " [ 4.20447077  3.78300365]\n",
      " [ 3.95861625  3.41936736]\n",
      " [ 4.47495091  4.3351307 ]\n",
      " [ 4.28805216  4.05549332]\n",
      " [ 4.17890162  4.43950875]\n",
      " [-0.75953254 -1.12008043]\n",
      " [-0.76773092 -0.25299088]\n",
      " [ 1.84829889 -1.01222936]\n",
      " [-0.48827746  0.10148525]\n",
      " [-0.55759916  0.450323  ]]\n"
     ]
    }
   ],
   "source": [
    "import numpy as np\n",
    "\n",
    "# Versão sem usar multivariate_normal\n",
    "def generate_data(n_list, means_list, variances_list):\n",
    "    X = []\n",
    "    for nc, means, variances in zip(n_list, means_list, variances_list):\n",
    "        p = len(means)\n",
    "        X_c = np.zeros((nc, p))\n",
    "        for j in range(p):\n",
    "            X_c[:, j] = np.random.normal(means[j], np.sqrt(variances[j]), nc)  # a função recebe o desvio\n",
    "        X.append(X_c)\n",
    "    return np.vstack(X)\n",
    "\n",
    "X = generate_data([5, 5, 5], [[1, 1], [4, 4], [0, 0]], [[1, 1], [0.1, 0.1], [0.5, 0.5]])\n",
    "print(X)"
   ]
  },
  {
   "cell_type": "code",
   "execution_count": 2,
   "metadata": {},
   "outputs": [
    {
     "name": "stdout",
     "output_type": "stream",
     "text": [
      "[[-0.0278804   0.66662924]\n",
      " [ 1.82737745  0.73494604]\n",
      " [ 0.82382238  1.9512209 ]\n",
      " [ 0.72695539  0.30055291]\n",
      " [ 2.13489148 -0.18150803]\n",
      " [ 4.4167333   3.81067085]\n",
      " [ 3.75821149  3.92222336]\n",
      " [ 3.84939886  4.0076921 ]\n",
      " [ 3.67492327  3.6934356 ]\n",
      " [ 4.47246499  3.85338941]\n",
      " [-0.56361369 -1.31876945]\n",
      " [-0.24771132  0.47073555]\n",
      " [ 1.23122817 -0.66397947]\n",
      " [ 0.46262594 -0.19577522]\n",
      " [ 0.22550958  0.56287151]]\n"
     ]
    }
   ],
   "source": [
    "import numpy as np\n",
    "\n",
    "# Versão usando multivariate_normal\n",
    "def generate_multivariate_data(n_list, means_list, variances_list):\n",
    "    X = []\n",
    "    for nc, means, variances in zip(n_list, means_list, variances_list):\n",
    "        X_c = np.random.multivariate_normal(\n",
    "            means, \n",
    "            np.diag(variances),   # a função recebe uma matriz de covariâncias\n",
    "            nc\n",
    "        )\n",
    "        X.append(X_c)\n",
    "    return np.vstack(X)\n",
    "\n",
    "X = generate_multivariate_data([5, 5, 5], [[1, 1], [4, 4], [0, 0]], [[1, 1], [0.1, 0.1], [0.5, 0.5]])\n",
    "print(X)"
   ]
  },
  {
   "cell_type": "markdown",
   "metadata": {},
   "source": [
    "**Comentário:** Era necessário definir explicitamente o tamanho de cada matriz $\\mathbf{X}_c^{n_c \\times p}$, portanto quem feza geração das matrizes com quantidades aleatórias de linhas não cumpriu os requisitos do enunciado corretamente."
   ]
  },
  {
   "cell_type": "markdown",
   "metadata": {},
   "source": [
    "**Questão 2 (1,0 ponto)** Faça uma função que recebe uma matriz $\\mathbf{X}^{n \\times p}$ e um inteiro $k$ e retorna uma matriz $W^{k \\times p}$, cujas linhas foram selecionadas aleatoriamente e sem reposição de $\\mathbf{X}^{n \\times p}$."
   ]
  },
  {
   "cell_type": "code",
   "execution_count": 13,
   "metadata": {},
   "outputs": [
    {
     "name": "stdout",
     "output_type": "stream",
     "text": [
      "[[ 2.13489148 -0.18150803]\n",
      " [-0.0278804   0.66662924]\n",
      " [ 3.67492327  3.6934356 ]]\n"
     ]
    }
   ],
   "source": [
    "def select_prototypes(X, k):\n",
    "    selected = np.random.choice(len(X), k, replace=False)\n",
    "    return X[selected]\n",
    "\n",
    "W = select_prototypes(X, 3)\n",
    "print(W)"
   ]
  },
  {
   "cell_type": "markdown",
   "metadata": {},
   "source": [
    "**Questão 3 (1,0 ponto)** Faça uma função que recebe duas matrizes $\\mathbf{X}^{n \\times p}$ e $\\mathbf{W}^{k \\times p}$ e retorna a matriz de distâncias Euclidianas $\\mathbf{D}^{n \\times k}$ entre as linhas de $\\mathbf{X}$ e as de $\\mathbf{W}$."
   ]
  },
  {
   "cell_type": "code",
   "execution_count": 4,
   "metadata": {},
   "outputs": [
    {
     "name": "stdout",
     "output_type": "stream",
     "text": [
      "[[1.54128951 0.99213805 5.51439471]\n",
      " [1.57684727 1.65190458 4.08915359]\n",
      " [0.         2.17716678 4.11470994]\n",
      " [1.65350779 0.56232701 5.16250805]\n",
      " [2.50348455 1.6723264  4.66311562]\n",
      " [4.0455609  5.62908297 0.07022035]\n",
      " [3.53489606 5.2743527  0.71756265]\n",
      " [3.65830382 5.39808932 0.64188839]\n",
      " [3.34127047 5.04428537 0.81342363]\n",
      " [4.11470994 5.69864399 0.        ]\n",
      " [3.55215649 1.52127704 7.21895531]\n",
      " [1.82757252 0.97407168 5.80710009]\n",
      " [2.64674375 0.89998034 5.55987749]\n",
      " [2.17716678 0.         5.69864399]\n",
      " [1.51178445 0.79483899 5.37253555]]\n",
      "0.0\n"
     ]
    }
   ],
   "source": [
    "# Versão simples e menos otimizada\n",
    "def calc_distances(X, W):\n",
    "    n, k = len(X), len(W)\n",
    "    distances = np.zeros((n, k))\n",
    "    for i in range(n):\n",
    "        for j in range(k):\n",
    "            distances[i, j] = np.sqrt(np.sum((X[i] - W[j]) ** 2))\n",
    "    return distances\n",
    "\n",
    "D = calc_distances(X, W)\n",
    "print(D)\n",
    "\n",
    "from scipy.spatial.distance import cdist  # para comparar\n",
    "print(np.sum(D - cdist(X, W)))  # se a função calc_distances estiver certa, esta soma será 0"
   ]
  },
  {
   "cell_type": "code",
   "execution_count": 5,
   "metadata": {},
   "outputs": [
    {
     "name": "stdout",
     "output_type": "stream",
     "text": [
      "[[1.54128951 0.99213805 5.51439471]\n",
      " [1.57684727 1.65190458 4.08915359]\n",
      " [0.         2.17716678 4.11470994]\n",
      " [1.65350779 0.56232701 5.16250805]\n",
      " [2.50348455 1.6723264  4.66311562]\n",
      " [4.0455609  5.62908297 0.07022035]\n",
      " [3.53489606 5.2743527  0.71756265]\n",
      " [3.65830382 5.39808932 0.64188839]\n",
      " [3.34127047 5.04428537 0.81342363]\n",
      " [4.11470994 5.69864399 0.        ]\n",
      " [3.55215649 1.52127704 7.21895531]\n",
      " [1.82757252 0.97407168 5.80710009]\n",
      " [2.64674375 0.89998034 5.55987749]\n",
      " [2.17716678 0.         5.69864399]\n",
      " [1.51178445 0.79483899 5.37253555]]\n",
      "0.0\n"
     ]
    }
   ],
   "source": [
    "# Versão \"mais complicada\" e otimizada\n",
    "def calculate_distances(X, W):\n",
    "    distances = np.sqrt(\n",
    "        (\n",
    "            (X - W[:, np.newaxis])**2  # o índice np.newaxis torna W uma matriz 3D que pode ser propagada corretamente pela linhas de X\n",
    "        ).sum(axis=2)).transpose()\n",
    "    return distances\n",
    "\n",
    "D = calculate_distances(X, W)\n",
    "print(D)\n",
    "\n",
    "print(np.sum(D - cdist(X, W)))  # se a função estiver certa, esta soma será 0"
   ]
  },
  {
   "cell_type": "code",
   "execution_count": 6,
   "metadata": {},
   "outputs": [
    {
     "name": "stdout",
     "output_type": "stream",
     "text": [
      "277 µs ± 7.65 µs per loop (mean ± std. dev. of 7 runs, 1000 loops each)\n",
      "7.87 µs ± 74.6 ns per loop (mean ± std. dev. of 7 runs, 100000 loops each)\n"
     ]
    }
   ],
   "source": [
    "# Comparação entre os tempos de execução das duas funções\n",
    "# Só por curiosidade\n",
    "%timeit calc_distances(X, W)\n",
    "%timeit calculate_distances(X, W)\n",
    "\n",
    "# A versão otimizada leva em média apenas 3% do tempo da versão lenta"
   ]
  },
  {
   "cell_type": "markdown",
   "metadata": {},
   "source": [
    "**Questão 4 (1,0 ponto)** Qual função de NumPy pode ser usada para obter para cada linha da matriz $\\mathbf{D}$, retornada pela função da questão acima, a coluna que representa a menor distância da linha correspondente em $\\mathbf{X}$ para as linhas de $\\mathbf{W}$? Use a função para retornar essa informação."
   ]
  },
  {
   "cell_type": "code",
   "execution_count": 7,
   "metadata": {},
   "outputs": [
    {
     "data": {
      "text/plain": [
       "array([1, 0, 0, 1, 1, 2, 2, 2, 2, 2, 1, 1, 1, 1, 1])"
      ]
     },
     "execution_count": 7,
     "metadata": {},
     "output_type": "execute_result"
    }
   ],
   "source": [
    "np.argmin(D, axis=1)"
   ]
  },
  {
   "cell_type": "markdown",
   "metadata": {},
   "source": [
    "**Questão 5 (2,0 pontos)** Faça uma função que atualiza as linhas de $\\mathbf{W}$, fazendo com que cada linha assuma o valor médio das linhas de $\\mathbf{X}$ para as quais a mesma foi a mais próxima. Use a função de NumPy mencionada na Questão 4."
   ]
  },
  {
   "cell_type": "code",
   "execution_count": 14,
   "metadata": {},
   "outputs": [
    {
     "name": "stdout",
     "output_type": "stream",
     "text": [
      "[[ 2.13489148 -0.18150803]\n",
      " [-0.0278804   0.66662924]\n",
      " [ 3.67492327  3.6934356 ]]\n",
      "[[ 1.32559992  1.34308347]\n",
      " [ 0.49275064 -0.04490537]\n",
      " [ 4.03434638  3.85748226]]\n",
      "[[ 1.32559992  1.34308347]\n",
      " [ 0.49275064 -0.04490537]\n",
      " [ 4.03434638  3.85748226]]\n"
     ]
    }
   ],
   "source": [
    "print(W)\n",
    "def update_prototypes(X, W, D):\n",
    "    partition = np.argmin(D, axis=1)\n",
    "    k = len(W)\n",
    "    for c in range(k):\n",
    "        W[c] = np.mean(X[partition == c], axis=0)\n",
    "    return W\n",
    "\n",
    "print(update_prototypes(X, W, D))\n",
    "print(W)  # dentro da função, o código modifica a matriz W diretamente, portanto ela está modificada neste escopo"
   ]
  },
  {
   "cell_type": "markdown",
   "metadata": {},
   "source": [
    "**Questão 6 (1,5 pontos)** Implemente uma classe, chamada *KMeans*, cujo construtor define os seguintes atributos: $k$ e $t_{max}$. A classe deve conter um método *fit*, que recebe como parâmetro uma matriz $\\mathbf{X}$. O método *fit* irá então seguir os seguintes passos:\n",
    "\n",
    "  1. Use a função implementada na Questão 2 para obter a matriz $\\mathbf{W}$ (note que o segundo parâmetro da função receberá como argumento um dos atributos definidos no construtor);\n",
    "  2. Repita as operações abaixo $t_{max}$ vezes (note que isso é um atributo):\n",
    "    1. Use a função da Questão 3 para calcular as distâncias entre $\\mathbf{X}$ e $\\mathbf{W}$\n",
    "    2. Use a função da Questão 5 para atualizar as linhas de $\\mathbf{W}$\n",
    "\n",
    "Ao final do método *fit*, a matriz $\\mathbf{W}$ resultante deve ser guardada como um atributo."
   ]
  },
  {
   "cell_type": "code",
   "execution_count": 46,
   "metadata": {},
   "outputs": [
    {
     "name": "stdout",
     "output_type": "stream",
     "text": [
      "[[ 0.70104879  1.29035403]\n",
      " [ 0.09784317 -0.25240109]\n",
      " [ 3.97104622  4.04019939]]\n"
     ]
    }
   ],
   "source": [
    "class KMeans:\n",
    "    def __init__(self, k, t_max):\n",
    "        self.k = k\n",
    "        self.t_max = t_max\n",
    "        \n",
    "    def fit(self, X):\n",
    "        self.W = select_prototypes(X, self.k)\n",
    "        for t in range(self.t_max):\n",
    "            D = calculate_distances(X, self.W)\n",
    "            self.W = update_prototypes(X, self.W, D)    \n",
    "\n",
    "np.random.seed(42)\n",
    "X = generate_multivariate_data([25, 25, 25], [[1, 1], [4, 4], [0, 0]], [[1, 1], [0.1, 0.1], [0.5, 0.5]])\n",
    "km = KMeans(3, 10)\n",
    "km.fit(X)\n",
    "\n",
    "print(km.W)"
   ]
  },
  {
   "cell_type": "markdown",
   "metadata": {},
   "source": [
    "**Comentário:** Muitos erraram ao não atualizar $\\mathbf{W}$ corretamente, criando uma nova variável, e.g. *new_X*, no passo de atualização, mas sempre calculando as distâncias usando o $\\mathbf{W}$ original"
   ]
  },
  {
   "cell_type": "markdown",
   "metadata": {},
   "source": [
    "**Questão 7 (1,0 ponto)** Adicione o método *predict* à classe *KMeans*. O método irá receber uma nova matriz $\\mathbf{X}$ e irá usar a função de NumPy mencionada na Questão 4 para retornar os índices das linhas de $\\mathbf{W}$ mais próximas às linhas de $\\mathbf{X}$."
   ]
  },
  {
   "cell_type": "code",
   "execution_count": 47,
   "metadata": {},
   "outputs": [
    {
     "name": "stdout",
     "output_type": "stream",
     "text": [
      "[2 2 2 2 2 2 2 2 2 2 2 2 2 2 2 2 2 2 2 2 2 2 2 2 2 2 2 2 2 2 2 2 2 2 2 2 2\n",
      " 2 2 2 2 2 2 2 2 2 2 2 2 2 2 2 2 2 2 2 2 2 2 2 2 2 2 2 2 2 2 2 2 2 2 2 2 2\n",
      " 2 2 2 2 2 2 2 2 2 2 2 2 2 2 2 2 2 2 2 2 2 2 2 2 2 2 0 0 0 0 0 0 0 0 0 0 0\n",
      " 0 0 0 0 0 0 0 0 0 0 0 0 0 0 0 0 0 0 0 0 0 0 0 0 0 0 0 0 0 0 0 0 0 0 0 0 0\n",
      " 0 0 0 0 0 0 0 0 0 0 0 0 0 0 0 0 0 0 0 0 0 0 0 0 0 0 0 0 0 0 0 0 0 0 0 0 0\n",
      " 0 0 0 0 0 0 0 0 0 0 0 0 0 0 0 1 1 1 1 1 1 1 1 1 1 1 1 1 1 1 1 1 1 1 1 1 1\n",
      " 1 1 1 1 1 1 1 1 1 1 1 1 1 1 1 1 1 1 1 1 1 1 1 1 1 1 1 1 1 1 1 1 1 1 1 1 1\n",
      " 1 1 1 1 1 1 1 1 1 1 1 1 1 1 1 1 1 1 1 1 1 1 1 1 1 1 1 1 1 1 1 1 1 1 1 1 1\n",
      " 1 1 1 1]\n"
     ]
    },
    {
     "data": {
      "image/png": "[encoded data removed]",
      "text/plain": [
       "<Figure size 432x288 with 1 Axes>"
      ]
     },
     "metadata": {
      "needs_background": "light"
     },
     "output_type": "display_data"
    }
   ],
   "source": [
    "class KMeans:\n",
    "    def __init__(self, k, t_max):\n",
    "        self.k = k\n",
    "        self.t_max = t_max\n",
    "        \n",
    "    def fit(self, X):\n",
    "        self.W = select_prototypes(X, self.k)\n",
    "        for t in range(self.t_max):\n",
    "            D = calculate_distances(X, self.W)\n",
    "            self.W = update_prototypes(X, self.W, D) \n",
    "    \n",
    "    def predict(self, X):\n",
    "        D = calculate_distances(X, self.W)\n",
    "        return np.argmin(D, axis=1)    \n",
    "\n",
    "np.random.seed(42)\n",
    "\n",
    "X_train = generate_multivariate_data([1000, 1000, 1000], [[2, 2], [4, 4], [0, 0]], [[.2, .2], [.1, .1], [.5, .5]])\n",
    "k, t_max = 3, 100\n",
    "km = KMeans(k, t_max)\n",
    "km.fit(X_train)\n",
    "\n",
    "X_test = generate_multivariate_data([100, 100, 100], [[2, 2], [4, 4], [0, 0]], [[.2, .2], [.1, .1], [.5, .5]])\n",
    "predictions = km.predict(X_test)\n",
    "print(predictions)\n",
    "\n",
    "import matplotlib.pyplot as plt  # para fazer uma visualização legal (não era obrigatório)\n",
    "\n",
    "k = len(W)\n",
    "for c in range(k):\n",
    "    affected = X_test[predictions == c]\n",
    "    plt.scatter(affected[:, 0], affected[:, 1])"
   ]
  },
  {
   "cell_type": "markdown",
   "metadata": {},
   "source": [
    "**Questão 8 (1,5 ponto)** Adicione o método *score* à classe *KMeans*. O método irá receber uma nova matriz $\\mathbf{X}$ e irá usar a função da Questão 3 para calcular as distâncias para a matrix $\\mathbf{W}$. Após isso, o método retornará o somatório das menores distâncias."
   ]
  },
  {
   "cell_type": "code",
   "execution_count": 54,
   "metadata": {},
   "outputs": [
    {
     "name": "stdout",
     "output_type": "stream",
     "text": [
      "2106.12724685638\n",
      "1826.974555204151\n",
      "1825.6646646625722\n",
      "1825.61605903042\n",
      "1825.61605903042\n",
      "1825.61605903042\n",
      "1825.61605903042\n"
     ]
    }
   ],
   "source": [
    "class KMeans:\n",
    "    def __init__(self, k, t_max):\n",
    "        self.k = k\n",
    "        self.t_max = t_max\n",
    "        \n",
    "    def fit(self, X):\n",
    "        self.W = select_prototypes(X, self.k)\n",
    "        for t in range(self.t_max):\n",
    "            D = calculate_distances(X, self.W)\n",
    "            self.W = update_prototypes(X, self.W, D)\n",
    "            print(\n",
    "                self.score(X)\n",
    "            )  # usando o método score para mostrar que as distâncias para os protótipos mais próximos irão diminuir até estabilizar\n",
    "    \n",
    "    def predict(self, X):\n",
    "        D = calculate_distances(X, self.W)\n",
    "        return np.argmin(D, axis=1)   \n",
    "    \n",
    "    def score(self, X):\n",
    "        D = calculate_distances(X, self.W)\n",
    "        return np.sum(np.min(D, axis=1))   \n",
    "\n",
    "np.random.seed(42)\n",
    "\n",
    "X_train = generate_multivariate_data([1000, 1000, 1000], [[2, 2], [4, 4], [0, 0]], [[.2, .2], [.1, .1], [.5, .5]])\n",
    "k, t_max = 3, 7\n",
    "km = KMeans(k, t_max)\n",
    "km.fit(X_train)"
   ]
  },
  {
   "cell_type": "code",
   "execution_count": null,
   "metadata": {},
   "outputs": [],
   "source": []
  }
 ],
 "metadata": {
  "kernelspec": {
   "display_name": "Python 3",
   "language": "python",
   "name": "python3"
  },
  "language_info": {
   "codemirror_mode": {
    "name": "ipython",
    "version": 3
   },
   "file_extension": ".py",
   "mimetype": "text/x-python",
   "name": "python",
   "nbconvert_exporter": "python",
   "pygments_lexer": "ipython3",
   "version": "3.7.3"
  }
 },
 "nbformat": 4,
 "nbformat_minor": 2
}
